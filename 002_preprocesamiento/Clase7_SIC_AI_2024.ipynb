{
 "cells": [
  {
   "cell_type": "markdown",
   "metadata": {},
   "source": [
    "# Clase 6\n",
    "\n",
    "En esta clase revisaremos el material de \n",
    "\n",
    "[Unidad 2](./Chapter_3/SIC_AI_Ch03_Unit03.ipynb)\n",
    "\n",
    "\n",
    "- [Colab trabajado por mí](https://github.com/davidlealo/sic_ai_2024/blob/main/002_preprocesamiento/Chapter_3/DLO_SIC_AI_Ch03_Unit03.ipynb)\n",
    "\n",
    "\n",
    "- Ejercicios de Javier - desde su repositorio [link](002_preprocesamiento/Clase6_SIC_AI_2024.ipynb)\n",
    "\n",
    "- Ejercicios de Eva - desde su repositorio [link](https://github.com/evaponce2javi/sic_ai_2024/blob/main/exampleNull.ipynb)\n",
    "\n",
    "- Nos falta los de Igor también\n",
    "\n",
    "# Tarea sesión\n",
    "\n",
    "Es responder el quiz, si faltó debe escribirme un correo\n"
   ]
  }
 ],
 "metadata": {
  "language_info": {
   "name": "python"
  }
 },
 "nbformat": 4,
 "nbformat_minor": 2
}
