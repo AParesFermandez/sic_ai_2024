{
 "cells": [
  {
   "cell_type": "markdown",
   "metadata": {},
   "source": [
    "# Conceptos Básicos de NumPy para Análisis de Datos\n",
    "\n",
    "## Conceptos Fundamentales en Programación\n",
    "\n",
    "Los conceptos más importantes en programación son:\n",
    "1. Tipos de datos\n",
    "2. Estructuras de datos\n",
    "3. Algoritmos\n",
    "\n",
    "Comprender claramente las diferencias entre estos tres conceptos es esencial para manejar fácilmente varios lenguajes de programación y resolver muchos errores.\n",
    "\n",
    "### Tipo de Dato\n",
    "\n",
    "- En ciencias de la computación y lenguajes de programación, un tipo de dato es una clasificación que identifica un tipo de dato como flotantes, enteros, booleanos, caracteres y cadenas, determinando también el tamaño del dato.\n",
    "- Los tipos de datos varían según el lenguaje de programación, pero la mayoría de los conceptos de tipos de datos del lenguaje C han sido heredados y utilizados, influyendo en otros lenguajes.\n",
    "- Cuando se introdujo C, la memoria era cara y difícil de almacenar en grandes cantidades. Como resultado, se diseñó para optimizar el uso del menor espacio posible, lo que eventualmente resultó en un problema de tamaño de datos.\n",
    "- Por ejemplo, en C, los tipos de datos enteros se dividen en char (compatible con enteros), short, int y long. Cada tamaño en bytes difiere de los otros tipos de datos.\n",
    "\n",
    "### Estructura de Datos\n",
    "\n",
    "- En ciencias de la computación, la estructura de datos se refiere a la organización, gestión y almacenamiento de datos que permite un acceso y modificación eficientes.\n",
    "- Una estructura de datos bien diseñada permite realizar operaciones con recursos mínimos, como tiempo de ejecución o capacidad de memoria.\n",
    "- Existen varios tipos de estructuras de datos, cada una adaptada a operaciones y propósitos específicos.\n",
    "- Al diseñar programas, la prioridad debe ser considerar y seleccionar la estructura de datos más apropiada, ya que la dificultad de implementación y el rendimiento del producto final dependen en gran medida de la estructura de datos elegida.\n",
    "\n",
    "### Algoritmo\n",
    "\n",
    "- Un algoritmo es la formulación de un conjunto de procedimientos o métodos para resolver cualquier problema soluble y se refiere a un procedimiento paso a paso para ejecutar un cálculo.\n",
    "- Los algoritmos son cruciales en los campos del aprendizaje automático y el aprendizaje profundo, áreas que cubriremos en el futuro, ya que requieren trabajar con grandes cantidades de datos.\n",
    "- En última instancia, como el rendimiento del algoritmo está directamente relacionado con el rendimiento de la estructura de datos, es fundamental saber exactamente dónde usar una determinada estructura de datos."
   ]
  },
  {
   "cell_type": "code",
   "execution_count": 12,
   "metadata": {},
   "outputs": [
    {
     "name": "stdout",
     "output_type": "stream",
     "text": [
      "11\n"
     ]
    }
   ],
   "source": [
    "cadena_numeros = \"1\"\n",
    "print(cadena_numeros+cadena_numeros)"
   ]
  },
  {
   "cell_type": "code",
   "execution_count": 13,
   "metadata": {},
   "outputs": [
    {
     "name": "stdout",
     "output_type": "stream",
     "text": [
      "2\n"
     ]
    }
   ],
   "source": [
    "print(int(cadena_numeros)+int(cadena_numeros))"
   ]
  },
  {
   "cell_type": "markdown",
   "metadata": {},
   "source": [
    "## Tipos de Estructuras de Datos\n",
    "\n",
    "![Estructuras de datos](https://innovationcampus.cl/wp-content/uploads/2024/07/Screenshot-2024-07-11-at-6.33.11 PM.png)\n",
    "\n",
    "\n",
    "\n",
    "En Python, las estructuras de datos se pueden dividir en dos categorías principales:\n",
    "\n",
    "1. Estructuras de datos primitivas: para tipos básicos\n",
    "2. Estructuras de datos no primitivas: para almacenar eficazmente múltiples datos con tipos de datos básicos\n",
    "\n",
    "![Tipo de estructuras de datos](https://innovationcampus.cl/wp-content/uploads/2024/07/Screenshot-2024-07-11-at-6.33.24 PM.png)\n",
    "\n",
    "\n",
    "### Listas en Python\n",
    "\n",
    "- La estructura de datos no primitiva más común y conveniente en Python es la lista.\n",
    "- Las listas son flexibles porque su tamaño no es fijo y pueden almacenar varios tipos de datos diferentes (enteros, caracteres, etc.).\n",
    "- Sin embargo, esta ventaja se vuelve inapropiada en los campos de aprendizaje automático y aprendizaje profundo, donde se deben procesar más datos de forma rápida y exclusivamente en números.\n",
    "\n",
    "### Arrays y NumPy\n",
    "\n",
    "- Para compensar las limitaciones de las listas, se utiliza la estructura de datos de array.\n",
    "- Python no soporta directamente los arrays, pero se pueden usar a través de la biblioteca NumPy.\n",
    "- Los arrays permiten operaciones más rápidas porque:\n",
    "  1. Los computadores convierten los números decimales en formato binario para realizar operaciones rápidas.\n",
    "  2. Utilizan el mismo tipo de datos numéricos para acceder y calcular cada elemento directamente sin repetición.\n",
    "\n",
    "## Método de Almacenamiento en Memoria por Estructura de Datos\n",
    "\n",
    "- Para comprender por qué las estructuras de datos de matriz permiten operaciones tan rápidas, primero debemos saber cómo se almacenan en la memoria para cada estructura de datos.\n",
    "- Normalmente, en la mayoría de los idiomas, se hace referencia a una matriz como un grupo de datos creado al enumerar datos del mismo tipo y almacenarlos de forma contigua en la memoria.\n",
    "- Cada valor que contiene se denomina elemento de una matriz. Estos elementos utilizan el número llamado índice, que siempre comienza en cero, para simplemente distinguir los elementos de una matriz. La mayoría de los tipos de datos se pueden configurar en una disposición y constan de una disposición unidimensional, una disposición bidimensional y una disposición tridimensional, según el tipo de configuración.\n",
    "- Anteriormente se explicó que la estructura de datos era un concepto que se centraba principalmente en almacenar datos de forma eficaz. Descubrir cómo se almacenan los datos en la matriz y la lista es la forma precisa de comprender los pros y los contras de la matriz y saber el motivo de su uso.\n",
    "- El siguiente es el proceso de acceder a los datos existentes al almacenarlos en una matriz y agregar y eliminar datos nuevos. Debes compararlo con la lista que sigue.\n",
    "- Supongamos que tres datos con cadenas que representan los siguientes colores se almacenan en una matriz.\n",
    "\n",
    "![Matriz](https://innovationcampus.cl/wp-content/uploads/2024/07/Screenshot-2024-07-11-at-6.33.32 PM.png)\n",
    "\n",
    "- Se puede acceder a cada elemento a través de cada índice. Un índice es un número que representa un pedido. Los datos se almacenan secuencialmente en una ubicación contigua de la memoria, como se muestra en la siguiente figura.\n",
    "\n",
    "![Matriz](https://innovationcampus.cl/wp-content/uploads/2024/07/Screenshot-2024-07-11-at-6.33.36 PM.png)\n",
    "\n",
    "- Dado que los datos se almacenan en una ubicación contigua, se puede acceder a la dirección de la memoria con un índice y los datos se pueden seleccionar aleatoriamente para acceder a la ubicación deseada de los datos. Aquí hay una imagen donde los datos se acercan al rojo en la tercera habitación (expresaremos el concepto de una variable que almacena principalmente un valor como una habitación) y se acercan a la habitación azul. El acceso aleatorio es posible a través del índice.\n",
    "\n",
    "![Matriz](https://innovationcampus.cl/wp-content/uploads/2024/07/Screenshot-2024-07-11-at-6.33.42 PM.png)\n",
    "\n",
    "- Otra característica de la matriz es que agregar o eliminar datos en una ubicación específica requiere más cálculo y espacio en comparación con la lista. El cálculo aquí es que la CPU necesita más tiempo para calcular y también se necesita más espacio en la memoria.\n",
    "- Considere agregar el valor \"Verde\" a la segunda posición.\n",
    "\n",
    "![Matriz](https://innovationcampus.cl/wp-content/uploads/2024/07/Screenshot-2024-07-11-at-6.33.48 PM.png)\n",
    "\n",
    "- En primer lugar, debemos asegurar espacio adicional al final del arreglo.\n",
    "\n",
    "![Matriz](https://innovationcampus.cl/wp-content/uploads/2024/07/Screenshot-2024-07-11-at-6.33.54 PM.png)\n",
    "\n",
    "- Para agregar datos al segundo espacio, los datos detrás del segundo espacio deben moverse hacia la derecha uno por uno.\n",
    "\n",
    "![Matriz](https://innovationcampus.cl/wp-content/uploads/2024/07/Screenshot-2024-07-11-at-6.34.00 PM.png)\n",
    "\n",
    "- Luego, los datos \"verdes\" se agregan al espacio vacío.\n",
    "\n",
    "![Matriz](https://innovationcampus.cl/wp-content/uploads/2024/07/Screenshot-2024-07-11-at-6.34.04 PM.png)\n",
    "\n",
    "- Por el contrario, al eliminar el segundo elemento, el valor \"Verde\", primero elimine el elemento y luego mueva el valor hacia la izquierda uno por uno para que no quede ningún espacio vacío.\n",
    "\n",
    "![Matriz](https://innovationcampus.cl/wp-content/uploads/2024/07/Screenshot-2024-07-11-at-6.34.09 PM.png)\n",
    "\n",
    "- Se completa eliminando el último espacio restante.\n",
    "\n",
    "![Matriz](https://innovationcampus.cl/wp-content/uploads/2024/07/Screenshot-2024-07-11-at-6.34.14 PM.png)\n",
    "\n",
    "- El siguiente es un método para almacenar datos en la estructura de datos de la lista.\n",
    "\n",
    "![Matriz](https://innovationcampus.cl/wp-content/uploads/2024/07/Screenshot-2024-07-11-at-6.34.19 PM.png)\n",
    "\n",
    "- Para comprender las listas, primero debe comprender el concepto de puntero. En términos simples, un puntero es un valor de dirección que apunta a un valor determinado.\n",
    "- Como se muestra en la figura anterior, la habitación azul (el concepto de una variable que representa un valor se expresará como una habitación) apunta a la habitación amarilla. Digamos que la habitación azul tiene la dirección de la ubicación de memoria de la habitación amarilla. Entonces cada habitación puede apuntar a la siguiente habitación.\n",
    "\n",
    "- Las listas no se almacenan secuencialmente sino en ubicaciones separadas.\n",
    "\n",
    "![Matriz](https://innovationcampus.cl/wp-content/uploads/2024/07/Screenshot-2024-07-11-at-6.34.24 PM.png)\n",
    "\n",
    "- Dado que el puntero del valor \"Azul\" se refiere a la dirección del valor \"Amarillo\" y el puntero del valor amarillo se refiere al valor \"Rojo\", se puede mantener el orden.\n",
    "\n",
    "![Matriz](https://innovationcampus.cl/wp-content/uploads/2024/07/Screenshot-2024-07-11-at-6.34.29 PM.png)\n",
    "\n",
    "- Dado que los datos se almacenan en direcciones no contiguas, se accede a los enfoques secuenciales a través del puntero que los precede.\n",
    "\n",
    "![Matriz](https://innovationcampus.cl/wp-content/uploads/2024/07/Screenshot-2024-07-11-at-6.34.33 PM.png)\n",
    "\n",
    "- Ahora, veamos el caso de agregar los datos \"verdes\".\n",
    "\n",
    "![Matriz](https://innovationcampus.cl/wp-content/uploads/2024/07/Screenshot-2024-07-11-at-6.34.40 PM.png)\n",
    "\n",
    "- Como se muestra en la imagen de arriba, usando cada puntero, el azul apunta al verde y el verde apunta al amarillo para agregar el verde.\n",
    "\n",
    "\n",
    "\n",
    "### ¿Qué es NumPy?\n",
    "\n",
    "- NumPy significa \"Numerical Python\" y es un paquete fundamental para la Ciencia de Datos en Python.\n",
    "- Proporciona objetos de arrays multidimensionales, varios objetos derivados (como matrices) y una colección de rutinas para operaciones rápidas en arrays.\n",
    "- Soporta transformadas de Fourier discretas, álgebra lineal básica, operaciones estadísticas básicas y simulaciones aleatorias.\n",
    "- El objeto ndarray es el núcleo del paquete NumPy, procesando arrays n-dimensionales de tipos de datos homogéneos.\n",
    "\n",
    "### Diferencias entre Arrays de NumPy y Secuencias Estándar de Python\n",
    "\n",
    "1. Los arrays de NumPy tienen un tamaño fijo al generarse, a diferencia de las listas de Python.\n",
    "2. Los elementos de un array NumPy son de tipo de dato homogéneo, ocupando el mismo tamaño en memoria.\n",
    "3. Los arrays de NumPy permiten cálculos matemáticos avanzados y otros tipos de operaciones en grandes cantidades de datos de manera eficiente.\n",
    "4. Muchos paquetes científicos y matemáticos basados en Python utilizan arrays de NumPy.\n",
    "\n",
    "### ¿Por qué usar Arrays de NumPy?\n",
    "\n",
    "- Permiten una amplia variedad de operaciones de procesamiento de datos a través de operaciones de array concisas, en lugar de bucles.\n",
    "- El uso de la computación de arrays para eliminar explícitamente los bucles se llama Vectorización.\n",
    "- Las operaciones matemáticas para arrays vectorizados son típicamente de dos a tres, o incluso diez o cien veces más rápidas que las operaciones puras de Python.\n",
    "- NumPy es la estructura de datos básica en scikit-learn, una biblioteca de aprendizaje automático de Python."
   ]
  },
  {
   "cell_type": "markdown",
   "metadata": {},
   "source": [
    "## Conceptos Básicos de NumPy\n",
    "\n",
    "### Importación de la Biblioteca NumPy\n",
    "\n",
    "Para una mejor legibilidad del código, se abrevia NumPy como np. Esta es una convención adoptada por todos los que trabajan con código para que pueda entenderse fácilmente.\n",
    "\n",
    "```python\n",
    "import numpy as np"
   ]
  },
  {
   "cell_type": "markdown",
   "metadata": {},
   "source": [
    "En Python, los objetos generalmente tienen propiedades y métodos. La propiedad es otro objeto Python almacenado dentro del objeto, y el método se refiere a una función que permite acceder a los datos internos del objeto. Se puede acceder en la forma np.nombre_atributo.\n"
   ]
  },
  {
   "cell_type": "markdown",
   "metadata": {},
   "source": [
    "### NumPy ndarray\n",
    "Un objeto de array n-dimensional se llama ndarray. Se puede usar para procesar y almacenar grandes conjuntos de datos.\n",
    "\n",
    "> Arreglos rápidos y flexibles que utilizan una gramática similar para operaciones entre elementos escalares.\n",
    "\n",
    "> Utilizan operaciones matemáticas para todo el bloque de datos.\n",
    "\n",
    "\n",
    "### Creación de Arrays\n",
    "Creación de Arrays a partir de Secuencias\n",
    "Primero, se puede crear un array a partir de una secuencia (lista, tupla, array, conjunto).\n"
   ]
  },
  {
   "cell_type": "code",
   "execution_count": 14,
   "metadata": {},
   "outputs": [],
   "source": [
    "import numpy as np"
   ]
  },
  {
   "cell_type": "code",
   "execution_count": 15,
   "metadata": {},
   "outputs": [
    {
     "name": "stdout",
     "output_type": "stream",
     "text": [
      "[1 2 3 4 5]\n"
     ]
    }
   ],
   "source": [
    "arr1 = np.array([1, 2, 3, 4, 5])\n",
    "print(arr1)"
   ]
  },
  {
   "cell_type": "markdown",
   "metadata": {},
   "source": [
    "Creación de Arrays con Tuplas\n"
   ]
  },
  {
   "cell_type": "code",
   "execution_count": 16,
   "metadata": {},
   "outputs": [
    {
     "name": "stdout",
     "output_type": "stream",
     "text": [
      "[1 2 3 4 5]\n"
     ]
    }
   ],
   "source": [
    "arr2 = np.array((1, 2, 3, 4, 5))\n",
    "print(arr2)"
   ]
  },
  {
   "cell_type": "markdown",
   "metadata": {},
   "source": [
    "Creación de Arrays con Diccionarios\n"
   ]
  },
  {
   "cell_type": "code",
   "execution_count": 17,
   "metadata": {},
   "outputs": [
    {
     "name": "stdout",
     "output_type": "stream",
     "text": [
      "{'a': 1, 'b': 2, 'c': 3}\n"
     ]
    }
   ],
   "source": [
    "arr3 = np.array({'a': 1, 'b': 2, 'c': 3})\n",
    "print(arr3)"
   ]
  },
  {
   "cell_type": "markdown",
   "metadata": {},
   "source": [
    "Creación de Arrays con Conjuntos\n"
   ]
  },
  {
   "cell_type": "code",
   "execution_count": 18,
   "metadata": {},
   "outputs": [
    {
     "name": "stdout",
     "output_type": "stream",
     "text": [
      "{1, 2, 3, 4, 5}\n"
     ]
    }
   ],
   "source": [
    "arr4 = np.array({1, 2, 3, 4, 5})\n",
    "print(arr4)"
   ]
  },
  {
   "cell_type": "markdown",
   "metadata": {},
   "source": [
    "Normalmente, las listas se usan comúnmente para crear arrays.\n",
    "Creación de Arrays con arange\n",
    "Este es el mismo concepto que range en Python estándar. Para arrays NumPy, use np.arange.\n"
   ]
  },
  {
   "cell_type": "code",
   "execution_count": 19,
   "metadata": {},
   "outputs": [
    {
     "name": "stdout",
     "output_type": "stream",
     "text": [
      "[0 1 2 3 4]\n"
     ]
    }
   ],
   "source": [
    "arr5 = np.arange(5)\n",
    "print(arr5)"
   ]
  },
  {
   "cell_type": "markdown",
   "metadata": {},
   "source": [
    "Use el método len() y la propiedad size para el tamaño del array.\n"
   ]
  },
  {
   "cell_type": "code",
   "execution_count": 20,
   "metadata": {},
   "outputs": [
    {
     "name": "stdout",
     "output_type": "stream",
     "text": [
      "5\n",
      "5\n"
     ]
    }
   ],
   "source": [
    "print(len(arr5))\n",
    "print(arr5.size)"
   ]
  },
  {
   "cell_type": "markdown",
   "metadata": {},
   "source": [
    "### Tipos de Datos en Arrays NumPy\n",
    "El array NumPy trata cada elemento convirtiéndolo al mismo tipo de datos.\n",
    "\n",
    "Los arrays NumPy procesan el mismo tipo rápida y efectivamente, como una de sus características.\n",
    "Aunque se pueden hacer arrays con diferentes tipos, cada tipo se convierte al mismo tipo.\n",
    "Debido al punto decimal en el tipo entero, el array se convierte en float cuando los tipos entero, float y booleano están juntos.\n",
    "\n",
    "Los tipos de datos de NumPy son los siguientes:\n",
    "\n",
    "> int8, int16, int32, int64\n",
    "\n",
    "> uint8, uint16, uint32, uint64\n",
    "\n",
    "> float16, float32, float64\n",
    "\n",
    "> complex64, complex128\n",
    "\n",
    "> bool\n",
    "\n",
    "> object\n",
    "> string_, unicode_\n",
    "\n",
    "Para más detalles, consulta la documentación oficial de NumPy sobre dtypes.\n",
    "Creación de Arrays con la Función linspace\n",
    "La función linspace crea un array con valores espaciados linealmente. Ver help(np.linspace) para más detalles.\n"
   ]
  },
  {
   "cell_type": "code",
   "execution_count": 21,
   "metadata": {},
   "outputs": [
    {
     "name": "stdout",
     "output_type": "stream",
     "text": [
      "[ 0.   2.5  5.   7.5 10. ]\n"
     ]
    }
   ],
   "source": [
    "arr6 = np.linspace(0, 10, 5)\n",
    "print(arr6)"
   ]
  },
  {
   "cell_type": "markdown",
   "metadata": {},
   "source": [
    "Creación de Arrays con np.zeros() y np.ones()\n"
   ]
  },
  {
   "cell_type": "code",
   "execution_count": 22,
   "metadata": {},
   "outputs": [
    {
     "name": "stdout",
     "output_type": "stream",
     "text": [
      "[0. 0. 0. 0. 0.]\n",
      "[1. 1. 1. 1. 1.]\n"
     ]
    }
   ],
   "source": [
    "arr7 = np.zeros(5)\n",
    "print(arr7)\n",
    "\n",
    "arr8 = np.ones(5)\n",
    "print(arr8)"
   ]
  },
  {
   "cell_type": "markdown",
   "metadata": {},
   "source": [
    "### Arrays Multidimensionales\n",
    "Un array multidimensional se refiere a un array de dos o más dimensiones. Se puede hacer en forma de lista dentro de lista.\n"
   ]
  },
  {
   "cell_type": "code",
   "execution_count": 23,
   "metadata": {},
   "outputs": [
    {
     "name": "stdout",
     "output_type": "stream",
     "text": [
      "[[1 2 3]\n",
      " [4 5 6]]\n",
      "2\n"
     ]
    }
   ],
   "source": [
    "arr_2d = np.array([[1, 2, 3], [4, 5, 6]])\n",
    "print(arr_2d)\n",
    "print(arr_2d.ndim)  # Comprueba las dimensiones del array"
   ]
  },
  {
   "cell_type": "code",
   "execution_count": 31,
   "metadata": {},
   "outputs": [],
   "source": [
    "test1 = np.array([[9,8,7], [6,7,8]])"
   ]
  },
  {
   "cell_type": "code",
   "execution_count": 32,
   "metadata": {},
   "outputs": [
    {
     "name": "stdout",
     "output_type": "stream",
     "text": [
      "[[9 8 7]\n",
      " [6 7 8]]\n"
     ]
    }
   ],
   "source": [
    "print(test1)"
   ]
  },
  {
   "cell_type": "code",
   "execution_count": 33,
   "metadata": {},
   "outputs": [
    {
     "name": "stdout",
     "output_type": "stream",
     "text": [
      "<class 'numpy.ndarray'>\n"
     ]
    }
   ],
   "source": [
    "print(type(test1))"
   ]
  },
  {
   "cell_type": "code",
   "execution_count": 34,
   "metadata": {},
   "outputs": [
    {
     "name": "stdout",
     "output_type": "stream",
     "text": [
      "2\n"
     ]
    }
   ],
   "source": [
    "print(test1.ndim)"
   ]
  },
  {
   "cell_type": "code",
   "execution_count": 36,
   "metadata": {},
   "outputs": [],
   "source": [
    "test2 = np.array([1,2,3])"
   ]
  },
  {
   "cell_type": "code",
   "execution_count": 37,
   "metadata": {},
   "outputs": [
    {
     "name": "stdout",
     "output_type": "stream",
     "text": [
      "<class 'numpy.ndarray'>\n"
     ]
    }
   ],
   "source": [
    "print(type(test2))"
   ]
  },
  {
   "cell_type": "code",
   "execution_count": 38,
   "metadata": {},
   "outputs": [
    {
     "name": "stdout",
     "output_type": "stream",
     "text": [
      "1\n"
     ]
    }
   ],
   "source": [
    "print(test2.ndim)"
   ]
  },
  {
   "cell_type": "code",
   "execution_count": 42,
   "metadata": {},
   "outputs": [],
   "source": [
    "x = np.array([[0, 1, 2, 3, 4],\n",
    "              [5, 6, 7, 8, 9]], dtype=np.int32)"
   ]
  },
  {
   "cell_type": "code",
   "execution_count": 43,
   "metadata": {},
   "outputs": [
    {
     "data": {
      "text/plain": [
       "(20, 4)"
      ]
     },
     "execution_count": 43,
     "metadata": {},
     "output_type": "execute_result"
    }
   ],
   "source": [
    "x.strides"
   ]
  },
  {
   "cell_type": "markdown",
   "metadata": {},
   "source": [
    "Creación de formas bidimensionales usando np.zeros()\n"
   ]
  },
  {
   "cell_type": "code",
   "execution_count": 24,
   "metadata": {},
   "outputs": [
    {
     "name": "stdout",
     "output_type": "stream",
     "text": [
      "[[0. 0. 0. 0.]\n",
      " [0. 0. 0. 0.]\n",
      " [0. 0. 0. 0.]]\n"
     ]
    }
   ],
   "source": [
    "arr_2d_zeros = np.zeros((3, 4))\n",
    "print(arr_2d_zeros)"
   ]
  },
  {
   "cell_type": "markdown",
   "metadata": {},
   "source": [
    "Cuando se crea, el elemento dentro normalmente es un float. Si quieres cambiarlo a entero:\n"
   ]
  },
  {
   "cell_type": "code",
   "execution_count": 25,
   "metadata": {},
   "outputs": [
    {
     "name": "stdout",
     "output_type": "stream",
     "text": [
      "[[0 0 0 0]\n",
      " [0 0 0 0]\n",
      " [0 0 0 0]]\n"
     ]
    }
   ],
   "source": [
    "arr_2d_zeros_int = np.zeros((3, 4), dtype=int)\n",
    "print(arr_2d_zeros_int)"
   ]
  },
  {
   "cell_type": "markdown",
   "metadata": {},
   "source": [
    "### Propiedades de los Arrays NumPy\n",
    "\n",
    "> ndim: Número de dimensiones\n",
    "\n",
    "> shape: Forma del array (tupla con las dimensiones)\n",
    "\n",
    "> size: Número total de elementos\n",
    "\n",
    "> dtype: Tipo de datos de los elementos"
   ]
  },
  {
   "cell_type": "code",
   "execution_count": 26,
   "metadata": {},
   "outputs": [
    {
     "name": "stdout",
     "output_type": "stream",
     "text": [
      "2\n",
      "(2, 3)\n",
      "6\n",
      "int64\n"
     ]
    }
   ],
   "source": [
    "print(arr_2d.ndim)\n",
    "print(arr_2d.shape)\n",
    "print(arr_2d.size)\n",
    "print(arr_2d.dtype)"
   ]
  },
  {
   "cell_type": "markdown",
   "metadata": {},
   "source": [
    "## Operaciones Avanzadas con NumPy\n",
    "\n",
    "### Reshaping (Cambio de Forma)\n",
    "\n",
    "El reshaping permite cambiar la forma de un array sin modificar sus datos.\n",
    "\n",
    "```python\n",
    "# Crear un array unidimensional\n",
    "arr = np.arange(12)\n",
    "print(\"Array original:\", arr)\n",
    "\n",
    "# Reshape a 3x4\n",
    "reshaped_arr = arr.reshape(3, 4)\n",
    "print(\"Array con nueva forma (3x4):\")\n",
    "print(reshaped_arr)\n",
    "\n",
    "# Cambiar la forma directamente\n",
    "arr.shape = (2, 6)\n",
    "print(\"Array con forma cambiada (2x6):\")\n",
    "print(arr)"
   ]
  },
  {
   "cell_type": "markdown",
   "metadata": {},
   "source": [
    "### Números Aleatorios\n",
    "NumPy proporciona funciones para generar números aleatorios.\n"
   ]
  },
  {
   "cell_type": "code",
   "execution_count": 27,
   "metadata": {},
   "outputs": [
    {
     "name": "stdout",
     "output_type": "stream",
     "text": [
      "Datos aleatorios: [-0.22797526  0.28497672  0.46246495  1.71580391 -1.86065022]\n",
      "Forma del array 2D: (100, 100)\n"
     ]
    }
   ],
   "source": [
    "# Generar datos que siguen una distribución normal estándar (media 0, desviación estándar 1)\n",
    "random_data = np.random.randn(5)\n",
    "print(\"Datos aleatorios:\", random_data)\n",
    "\n",
    "# Crear un array 2D de 100x100 con números aleatorios\n",
    "data2 = np.random.randn(100, 100)\n",
    "print(\"Forma del array 2D:\", data2.shape)"
   ]
  },
  {
   "cell_type": "markdown",
   "metadata": {},
   "source": [
    "### Comparación de Rendimiento: Listas de Python vs Arrays de NumPy\n",
    "Vamos a comparar el rendimiento de una lista de Python y un array de NumPy al almacenar y operar con un millón de enteros.\n"
   ]
  },
  {
   "cell_type": "code",
   "execution_count": 28,
   "metadata": {},
   "outputs": [
    {
     "name": "stdout",
     "output_type": "stream",
     "text": [
      "Tiempo de ejecución con NumPy: 0.00499 segundos\n",
      "Tiempo de ejecución con lista de Python: 0.07778 segundos\n",
      "NumPy es aproximadamente 15.60 veces más rápido\n"
     ]
    }
   ],
   "source": [
    "import time\n",
    "\n",
    "# Crear un array NumPy de 1 millón de elementos\n",
    "np_arr = np.arange(1000000)\n",
    "\n",
    "# Crear una lista de Python de 1 millón de elementos\n",
    "py_list = list(range(1000000))\n",
    "\n",
    "# Función para medir el tiempo de ejecución\n",
    "def time_execution(func):\n",
    "    start = time.time()\n",
    "    func()\n",
    "    end = time.time()\n",
    "    return end - start\n",
    "\n",
    "# Operación con NumPy\n",
    "def numpy_operation():\n",
    "    return np_arr * 2\n",
    "\n",
    "# Operación con lista de Python\n",
    "def python_list_operation():\n",
    "    return [x * 2 for x in py_list]\n",
    "\n",
    "# Medir tiempo para NumPy\n",
    "numpy_time = time_execution(numpy_operation)\n",
    "print(f\"Tiempo de ejecución con NumPy: {numpy_time:.5f} segundos\")\n",
    "\n",
    "# Medir tiempo para lista de Python\n",
    "python_time = time_execution(python_list_operation)\n",
    "print(f\"Tiempo de ejecución con lista de Python: {python_time:.5f} segundos\")\n",
    "\n",
    "# Calcular la diferencia de velocidad\n",
    "speed_difference = python_time / numpy_time\n",
    "print(f\"NumPy es aproximadamente {speed_difference:.2f} veces más rápido\")"
   ]
  },
  {
   "cell_type": "markdown",
   "metadata": {},
   "source": [
    "### Explicación de la Diferencia de Rendimiento\n",
    "\n",
    "Vectorización: NumPy utiliza operaciones vectorizadas, que son mucho más rápidas que los bucles en Python puro.\n",
    "\n",
    "Implementación en C: Las operaciones de NumPy están implementadas en C, lo que las hace más rápidas que el código Python interpretado.\n",
    "Optimización de memoria: NumPy utiliza arrays contiguos en memoria, lo que mejora la eficiencia de acceso a los datos.\n",
    "\n",
    "Tipos de datos homogéneos: Los arrays de NumPy contienen elementos del mismo tipo, lo que permite optimizaciones adicionales.\n",
    "\n",
    "Operaciones Adicionales con Arrays de NumPy\n",
    "Agregar Elementos a Arrays de NumPy\n"
   ]
  },
  {
   "cell_type": "code",
   "execution_count": 29,
   "metadata": {},
   "outputs": [
    {
     "name": "stdout",
     "output_type": "stream",
     "text": [
      "Array con nuevo elemento: [1 2 3 4 5 6]\n",
      "Array 2D con nueva fila:\n",
      "[[1 2 3]\n",
      " [4 5 6]\n",
      " [7 8 9]]\n"
     ]
    }
   ],
   "source": [
    "# Agregar un valor a un array unidimensional\n",
    "arr = np.array([1, 2, 3, 4, 5])\n",
    "new_arr = np.append(arr, 6)\n",
    "print(\"Array con nuevo elemento:\", new_arr)\n",
    "\n",
    "# Agregar elementos a un array bidimensional\n",
    "arr_2d = np.array([[1, 2, 3], [4, 5, 6]])\n",
    "new_row = np.array([[7, 8, 9]])\n",
    "new_arr_2d = np.append(arr_2d, new_row, axis=0)\n",
    "print(\"Array 2D con nueva fila:\")\n",
    "print(new_arr_2d)"
   ]
  },
  {
   "cell_type": "markdown",
   "metadata": {},
   "source": [
    "### Eliminar Elementos de Arrays de NumPy\n"
   ]
  },
  {
   "cell_type": "code",
   "execution_count": 30,
   "metadata": {},
   "outputs": [
    {
     "name": "stdout",
     "output_type": "stream",
     "text": [
      "Array con elemento eliminado: [1 2 4 5]\n",
      "Array 2D con fila eliminada:\n",
      "[[1 2 3]\n",
      " [7 8 9]]\n"
     ]
    }
   ],
   "source": [
    "# Eliminar un elemento de un array unidimensional\n",
    "arr = np.array([1, 2, 3, 4, 5])\n",
    "new_arr = np.delete(arr, 2)  # Elimina el elemento en el índice 2\n",
    "print(\"Array con elemento eliminado:\", new_arr)\n",
    "\n",
    "# Eliminar una fila de un array bidimensional\n",
    "arr_2d = np.array([[1, 2, 3], [4, 5, 6], [7, 8, 9]])\n",
    "new_arr_2d = np.delete(arr_2d, 1, axis=0)  # Elimina la segunda fila\n",
    "print(\"Array 2D con fila eliminada:\")\n",
    "print(new_arr_2d)"
   ]
  },
  {
   "cell_type": "markdown",
   "metadata": {},
   "source": [
    "# Tarea\n",
    "\n",
    "Hacer ejemplos similares al título de Reshaping y números aleatorios explicando los resultados en un comentario o en markdown. Puede ser un ejemplo muy parecido, con otros números, pero con explicaciones propias de usted\n",
    "\n",
    "> Enviar a mi correo"
   ]
  }
 ],
 "metadata": {
  "kernelspec": {
   "display_name": "myenv",
   "language": "python",
   "name": "python3"
  },
  "language_info": {
   "codemirror_mode": {
    "name": "ipython",
    "version": 3
   },
   "file_extension": ".py",
   "mimetype": "text/x-python",
   "name": "python",
   "nbconvert_exporter": "python",
   "pygments_lexer": "ipython3",
   "version": "3.11.4"
  }
 },
 "nbformat": 4,
 "nbformat_minor": 2
}
