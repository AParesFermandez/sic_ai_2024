{
 "cells": [
  {
   "cell_type": "markdown",
   "metadata": {},
   "source": [
    "# Conceptos Básicos de NumPy para Análisis de Datos\n",
    "\n",
    "## Conceptos Fundamentales en Programación\n",
    "\n",
    "Los conceptos más importantes en programación son:\n",
    "1. Tipos de datos\n",
    "2. Estructuras de datos\n",
    "3. Algoritmos\n",
    "\n",
    "Comprender claramente las diferencias entre estos tres conceptos es esencial para manejar fácilmente varios lenguajes de programación y resolver muchos errores.\n",
    "\n",
    "### Tipo de Dato\n",
    "\n",
    "- En ciencias de la computación y lenguajes de programación, un tipo de dato es una clasificación que identifica un tipo de dato como flotantes, enteros, booleanos, caracteres y cadenas, determinando también el tamaño del dato.\n",
    "- Los tipos de datos varían según el lenguaje de programación, pero la mayoría de los conceptos de tipos de datos del lenguaje C han sido heredados y utilizados, influyendo en otros lenguajes.\n",
    "- Cuando se introdujo C, la memoria era cara y difícil de almacenar en grandes cantidades. Como resultado, se diseñó para optimizar el uso del menor espacio posible, lo que eventualmente resultó en un problema de tamaño de datos.\n",
    "- Por ejemplo, en C, los tipos de datos enteros se dividen en char (compatible con enteros), short, int y long. Cada tamaño en bytes difiere de los otros tipos de datos.\n",
    "\n",
    "### Estructura de Datos\n",
    "\n",
    "- En ciencias de la computación, la estructura de datos se refiere a la organización, gestión y almacenamiento de datos que permite un acceso y modificación eficientes.\n",
    "- Una estructura de datos bien diseñada permite realizar operaciones con recursos mínimos, como tiempo de ejecución o capacidad de memoria.\n",
    "- Existen varios tipos de estructuras de datos, cada una adaptada a operaciones y propósitos específicos.\n",
    "- Al diseñar programas, la prioridad debe ser considerar y seleccionar la estructura de datos más apropiada, ya que la dificultad de implementación y el rendimiento del producto final dependen en gran medida de la estructura de datos elegida.\n",
    "\n",
    "### Algoritmo\n",
    "\n",
    "- Un algoritmo es la formulación de un conjunto de procedimientos o métodos para resolver cualquier problema soluble y se refiere a un procedimiento paso a paso para ejecutar un cálculo.\n",
    "- Los algoritmos son cruciales en los campos del aprendizaje automático y el aprendizaje profundo, áreas que cubriremos en el futuro, ya que requieren trabajar con grandes cantidades de datos.\n",
    "- En última instancia, como el rendimiento del algoritmo está directamente relacionado con el rendimiento de la estructura de datos, es fundamental saber exactamente dónde usar una determinada estructura de datos."
   ]
  },
  {
   "cell_type": "markdown",
   "metadata": {},
   "source": [
    "## Tipos de Estructuras de Datos\n",
    "\n",
    "En Python, las estructuras de datos se pueden dividir en dos categorías principales:\n",
    "\n",
    "1. Estructuras de datos primitivas: para tipos básicos\n",
    "2. Estructuras de datos no primitivas: para almacenar eficazmente múltiples datos con tipos de datos básicos\n",
    "\n",
    "### Listas en Python\n",
    "\n",
    "- La estructura de datos no primitiva más común y conveniente en Python es la lista.\n",
    "- Las listas son flexibles porque su tamaño no es fijo y pueden almacenar varios tipos de datos diferentes (enteros, caracteres, etc.).\n",
    "- Sin embargo, esta ventaja se vuelve inapropiada en los campos de aprendizaje automático y aprendizaje profundo, donde se deben procesar más datos de forma rápida y exclusivamente en números.\n",
    "\n",
    "### Arrays y NumPy\n",
    "\n",
    "- Para compensar las limitaciones de las listas, se utiliza la estructura de datos de array.\n",
    "- Python no soporta directamente los arrays, pero se pueden usar a través de la biblioteca NumPy.\n",
    "- Los arrays permiten operaciones más rápidas porque:\n",
    "  1. Los computadores convierten los números decimales en formato binario para realizar operaciones rápidas.\n",
    "  2. Utilizan el mismo tipo de datos numéricos para acceder y calcular cada elemento directamente sin repetición.\n",
    "\n",
    "## Método de Almacenamiento en Memoria por Estructura de Datos\n",
    "\n",
    "### Arrays\n",
    "\n",
    "- Un array es un grupo de datos del mismo tipo almacenados de forma contigua en memoria.\n",
    "- Cada valor se llama elemento del array.\n",
    "- Los elementos usan un número llamado índice, que siempre comienza en cero, para distinguirlos.\n",
    "- Los arrays pueden ser unidimensionales, bidimensionales o tridimensionales.\n",
    "\n",
    "### Acceso a Datos en Arrays\n",
    "\n",
    "- Supongamos que tenemos tres datos de cadenas que representan colores almacenados en un array.\n",
    "- Cada elemento se puede acceder a través de su índice.\n",
    "- Los datos se almacenan secuencialmente en una ubicación contigua de la memoria.\n",
    "- Debido a este almacenamiento contiguo, se puede acceder a la dirección de memoria con un índice y seleccionar aleatoriamente los datos para acceder a la ubicación deseada.\n",
    "\n",
    "### Agregar y Eliminar Datos de un Array\n",
    "\n",
    "- Agregar o eliminar datos en una ubicación específica requiere más cálculo y espacio en comparación con una lista.\n",
    "- Para agregar un valor, se necesita:\n",
    "  1. Asegurar espacio adicional al final del array.\n",
    "  2. Mover los datos detrás de la posición deseada hacia la derecha.\n",
    "  3. Insertar el nuevo dato en el espacio vacío.\n",
    "- Para eliminar un elemento:\n",
    "  1. Remover el elemento.\n",
    "  2. Mover los valores restantes hacia la izquierda para llenar el espacio.\n",
    "  3. Eliminar el último espacio sobrante.\n",
    "\n",
    "## NumPy: Numerical Python\n",
    "\n",
    "### ¿Qué es NumPy?\n",
    "\n",
    "- NumPy significa \"Numerical Python\" y es un paquete fundamental para la Ciencia de Datos en Python.\n",
    "- Proporciona objetos de arrays multidimensionales, varios objetos derivados (como matrices) y una colección de rutinas para operaciones rápidas en arrays.\n",
    "- Soporta transformadas de Fourier discretas, álgebra lineal básica, operaciones estadísticas básicas y simulaciones aleatorias.\n",
    "- El objeto ndarray es el núcleo del paquete NumPy, procesando arrays n-dimensionales de tipos de datos homogéneos.\n",
    "\n",
    "### Diferencias entre Arrays de NumPy y Secuencias Estándar de Python\n",
    "\n",
    "1. Los arrays de NumPy tienen un tamaño fijo al generarse, a diferencia de las listas de Python.\n",
    "2. Los elementos de un array NumPy son de tipo de dato homogéneo, ocupando el mismo tamaño en memoria.\n",
    "3. Los arrays de NumPy permiten cálculos matemáticos avanzados y otros tipos de operaciones en grandes cantidades de datos de manera eficiente.\n",
    "4. Muchos paquetes científicos y matemáticos basados en Python utilizan arrays de NumPy.\n",
    "\n",
    "### ¿Por qué usar Arrays de NumPy?\n",
    "\n",
    "- Permiten una amplia variedad de operaciones de procesamiento de datos a través de operaciones de array concisas, en lugar de bucles.\n",
    "- El uso de la computación de arrays para eliminar explícitamente los bucles se llama Vectorización.\n",
    "- Las operaciones matemáticas para arrays vectorizados son típicamente de dos a tres, o incluso diez o cien veces más rápidas que las operaciones puras de Python.\n",
    "- NumPy es la estructura de datos básica en scikit-learn, una biblioteca de aprendizaje automático de Python."
   ]
  },
  {
   "cell_type": "markdown",
   "metadata": {},
   "source": [
    "## Conceptos Básicos de NumPy\n",
    "\n",
    "### Importación de la Biblioteca NumPy\n",
    "\n",
    "Para una mejor legibilidad del código, se abrevia NumPy como np. Esta es una convención adoptada por todos los que trabajan con código para que pueda entenderse fácilmente.\n",
    "\n",
    "```python\n",
    "import numpy as np"
   ]
  },
  {
   "cell_type": "markdown",
   "metadata": {},
   "source": [
    "En Python, los objetos generalmente tienen propiedades y métodos. La propiedad es otro objeto Python almacenado dentro del objeto, y el método se refiere a una función que permite acceder a los datos internos del objeto. Se puede acceder en la forma np.nombre_atributo.\n"
   ]
  },
  {
   "cell_type": "markdown",
   "metadata": {},
   "source": [
    "### NumPy ndarray\n",
    "Un objeto de array n-dimensional se llama ndarray. Se puede usar para procesar y almacenar grandes conjuntos de datos.\n",
    "\n",
    "> Arreglos rápidos y flexibles que utilizan una gramática similar para operaciones entre elementos escalares.\n",
    "\n",
    "> Utilizan operaciones matemáticas para todo el bloque de datos.\n",
    "\n",
    "\n",
    "### Creación de Arrays\n",
    "Creación de Arrays a partir de Secuencias\n",
    "Primero, se puede crear un array a partir de una secuencia (lista, tupla, array, conjunto).\n"
   ]
  },
  {
   "cell_type": "code",
   "execution_count": null,
   "metadata": {
    "vscode": {
     "languageId": "plaintext"
    }
   },
   "outputs": [],
   "source": [
    "arr1 = np.array([1, 2, 3, 4, 5])\n",
    "print(arr1)"
   ]
  },
  {
   "cell_type": "markdown",
   "metadata": {},
   "source": [
    "Creación de Arrays con Tuplas\n"
   ]
  },
  {
   "cell_type": "code",
   "execution_count": null,
   "metadata": {
    "vscode": {
     "languageId": "plaintext"
    }
   },
   "outputs": [],
   "source": [
    "arr2 = np.array((1, 2, 3, 4, 5))\n",
    "print(arr2)"
   ]
  },
  {
   "cell_type": "markdown",
   "metadata": {},
   "source": [
    "Creación de Arrays con Diccionarios\n"
   ]
  },
  {
   "cell_type": "code",
   "execution_count": null,
   "metadata": {
    "vscode": {
     "languageId": "plaintext"
    }
   },
   "outputs": [],
   "source": [
    "arr3 = np.array({'a': 1, 'b': 2, 'c': 3})\n",
    "print(arr3)"
   ]
  },
  {
   "cell_type": "markdown",
   "metadata": {},
   "source": [
    "Creación de Arrays con Conjuntos\n"
   ]
  },
  {
   "cell_type": "code",
   "execution_count": null,
   "metadata": {
    "vscode": {
     "languageId": "plaintext"
    }
   },
   "outputs": [],
   "source": [
    "arr4 = np.array({1, 2, 3, 4, 5})\n",
    "print(arr4)"
   ]
  },
  {
   "cell_type": "markdown",
   "metadata": {},
   "source": [
    "Normalmente, las listas se usan comúnmente para crear arrays.\n",
    "Creación de Arrays con arange\n",
    "Este es el mismo concepto que range en Python estándar. Para arrays NumPy, use np.arange.\n"
   ]
  },
  {
   "cell_type": "code",
   "execution_count": null,
   "metadata": {
    "vscode": {
     "languageId": "plaintext"
    }
   },
   "outputs": [],
   "source": [
    "arr5 = np.arange(5)\n",
    "print(arr5)"
   ]
  },
  {
   "cell_type": "markdown",
   "metadata": {},
   "source": [
    "Use el método len() y la propiedad size para el tamaño del array.\n"
   ]
  },
  {
   "cell_type": "code",
   "execution_count": null,
   "metadata": {
    "vscode": {
     "languageId": "plaintext"
    }
   },
   "outputs": [],
   "source": [
    "print(len(arr5))\n",
    "print(arr5.size)"
   ]
  },
  {
   "cell_type": "markdown",
   "metadata": {},
   "source": [
    "### Tipos de Datos en Arrays NumPy\n",
    "El array NumPy trata cada elemento convirtiéndolo al mismo tipo de datos.\n",
    "\n",
    "Los arrays NumPy procesan el mismo tipo rápida y efectivamente, como una de sus características.\n",
    "Aunque se pueden hacer arrays con diferentes tipos, cada tipo se convierte al mismo tipo.\n",
    "Debido al punto decimal en el tipo entero, el array se convierte en float cuando los tipos entero, float y booleano están juntos.\n",
    "\n",
    "Los tipos de datos de NumPy son los siguientes:\n",
    "\n",
    "> int8, int16, int32, int64\n",
    "\n",
    "> uint8, uint16, uint32, uint64\n",
    "\n",
    "> float16, float32, float64\n",
    "\n",
    "> complex64, complex128\n",
    "\n",
    "> bool\n",
    "\n",
    "> object\n",
    "> string_, unicode_\n",
    "\n",
    "Para más detalles, consulta la documentación oficial de NumPy sobre dtypes.\n",
    "Creación de Arrays con la Función linspace\n",
    "La función linspace crea un array con valores espaciados linealmente. Ver help(np.linspace) para más detalles.\n"
   ]
  },
  {
   "cell_type": "code",
   "execution_count": null,
   "metadata": {
    "vscode": {
     "languageId": "plaintext"
    }
   },
   "outputs": [],
   "source": [
    "arr6 = np.linspace(0, 10, 5)\n",
    "print(arr6)"
   ]
  },
  {
   "cell_type": "markdown",
   "metadata": {},
   "source": [
    "Creación de Arrays con np.zeros() y np.ones()\n"
   ]
  },
  {
   "cell_type": "code",
   "execution_count": null,
   "metadata": {
    "vscode": {
     "languageId": "plaintext"
    }
   },
   "outputs": [],
   "source": [
    "arr7 = np.zeros(5)\n",
    "print(arr7)\n",
    "\n",
    "arr8 = np.ones(5)\n",
    "print(arr8)"
   ]
  },
  {
   "cell_type": "markdown",
   "metadata": {},
   "source": [
    "### Arrays Multidimensionales\n",
    "Un array multidimensional se refiere a un array de dos o más dimensiones. Se puede hacer en forma de lista dentro de lista.\n"
   ]
  },
  {
   "cell_type": "code",
   "execution_count": null,
   "metadata": {
    "vscode": {
     "languageId": "plaintext"
    }
   },
   "outputs": [],
   "source": [
    "arr_2d = np.array([[1, 2, 3], [4, 5, 6]])\n",
    "print(arr_2d)\n",
    "print(arr_2d.ndim)  # Comprueba las dimensiones del array"
   ]
  },
  {
   "cell_type": "markdown",
   "metadata": {},
   "source": [
    "Creación de formas bidimensionales usando np.zeros()\n"
   ]
  },
  {
   "cell_type": "code",
   "execution_count": null,
   "metadata": {
    "vscode": {
     "languageId": "plaintext"
    }
   },
   "outputs": [],
   "source": [
    "arr_2d_zeros = np.zeros((3, 4))\n",
    "print(arr_2d_zeros)"
   ]
  },
  {
   "cell_type": "markdown",
   "metadata": {},
   "source": [
    "Cuando se crea, el elemento dentro normalmente es un float. Si quieres cambiarlo a entero:\n"
   ]
  },
  {
   "cell_type": "code",
   "execution_count": null,
   "metadata": {
    "vscode": {
     "languageId": "plaintext"
    }
   },
   "outputs": [],
   "source": [
    "arr_2d_zeros_int = np.zeros((3, 4), dtype=int)\n",
    "print(arr_2d_zeros_int)"
   ]
  },
  {
   "cell_type": "markdown",
   "metadata": {},
   "source": [
    "### Propiedades de los Arrays NumPy\n",
    "\n",
    "> ndim: Número de dimensiones\n",
    "\n",
    "> shape: Forma del array (tupla con las dimensiones)\n",
    "\n",
    "> size: Número total de elementos\n",
    "\n",
    "> dtype: Tipo de datos de los elementos"
   ]
  },
  {
   "cell_type": "code",
   "execution_count": null,
   "metadata": {
    "vscode": {
     "languageId": "plaintext"
    }
   },
   "outputs": [],
   "source": [
    "print(arr_2d.ndim)\n",
    "print(arr_2d.shape)\n",
    "print(arr_2d.size)\n",
    "print(arr_2d.dtype)"
   ]
  },
  {
   "cell_type": "markdown",
   "metadata": {},
   "source": [
    "## Operaciones Avanzadas con NumPy\n",
    "\n",
    "### Reshaping (Cambio de Forma)\n",
    "\n",
    "El reshaping permite cambiar la forma de un array sin modificar sus datos.\n",
    "\n",
    "```python\n",
    "# Crear un array unidimensional\n",
    "arr = np.arange(12)\n",
    "print(\"Array original:\", arr)\n",
    "\n",
    "# Reshape a 3x4\n",
    "reshaped_arr = arr.reshape(3, 4)\n",
    "print(\"Array con nueva forma (3x4):\")\n",
    "print(reshaped_arr)\n",
    "\n",
    "# Cambiar la forma directamente\n",
    "arr.shape = (2, 6)\n",
    "print(\"Array con forma cambiada (2x6):\")\n",
    "print(arr)"
   ]
  },
  {
   "cell_type": "markdown",
   "metadata": {},
   "source": [
    "### Números Aleatorios\n",
    "NumPy proporciona funciones para generar números aleatorios.\n"
   ]
  },
  {
   "cell_type": "code",
   "execution_count": null,
   "metadata": {
    "vscode": {
     "languageId": "plaintext"
    }
   },
   "outputs": [],
   "source": [
    "# Generar datos que siguen una distribución normal estándar (media 0, desviación estándar 1)\n",
    "random_data = np.random.randn(5)\n",
    "print(\"Datos aleatorios:\", random_data)\n",
    "\n",
    "# Crear un array 2D de 100x100 con números aleatorios\n",
    "data2 = np.random.randn(100, 100)\n",
    "print(\"Forma del array 2D:\", data2.shape)"
   ]
  },
  {
   "cell_type": "markdown",
   "metadata": {},
   "source": [
    "### Comparación de Rendimiento: Listas de Python vs Arrays de NumPy\n",
    "Vamos a comparar el rendimiento de una lista de Python y un array de NumPy al almacenar y operar con un millón de enteros.\n"
   ]
  },
  {
   "cell_type": "code",
   "execution_count": null,
   "metadata": {
    "vscode": {
     "languageId": "plaintext"
    }
   },
   "outputs": [],
   "source": [
    "import time\n",
    "\n",
    "# Crear un array NumPy de 1 millón de elementos\n",
    "np_arr = np.arange(1000000)\n",
    "\n",
    "# Crear una lista de Python de 1 millón de elementos\n",
    "py_list = list(range(1000000))\n",
    "\n",
    "# Función para medir el tiempo de ejecución\n",
    "def time_execution(func):\n",
    "    start = time.time()\n",
    "    func()\n",
    "    end = time.time()\n",
    "    return end - start\n",
    "\n",
    "# Operación con NumPy\n",
    "def numpy_operation():\n",
    "    return np_arr * 2\n",
    "\n",
    "# Operación con lista de Python\n",
    "def python_list_operation():\n",
    "    return [x * 2 for x in py_list]\n",
    "\n",
    "# Medir tiempo para NumPy\n",
    "numpy_time = time_execution(numpy_operation)\n",
    "print(f\"Tiempo de ejecución con NumPy: {numpy_time:.5f} segundos\")\n",
    "\n",
    "# Medir tiempo para lista de Python\n",
    "python_time = time_execution(python_list_operation)\n",
    "print(f\"Tiempo de ejecución con lista de Python: {python_time:.5f} segundos\")\n",
    "\n",
    "# Calcular la diferencia de velocidad\n",
    "speed_difference = python_time / numpy_time\n",
    "print(f\"NumPy es aproximadamente {speed_difference:.2f} veces más rápido\")"
   ]
  },
  {
   "cell_type": "markdown",
   "metadata": {},
   "source": [
    "### Explicación de la Diferencia de Rendimiento\n",
    "\n",
    "Vectorización: NumPy utiliza operaciones vectorizadas, que son mucho más rápidas que los bucles en Python puro.\n",
    "\n",
    "Implementación en C: Las operaciones de NumPy están implementadas en C, lo que las hace más rápidas que el código Python interpretado.\n",
    "Optimización de memoria: NumPy utiliza arrays contiguos en memoria, lo que mejora la eficiencia de acceso a los datos.\n",
    "\n",
    "Tipos de datos homogéneos: Los arrays de NumPy contienen elementos del mismo tipo, lo que permite optimizaciones adicionales.\n",
    "\n",
    "Operaciones Adicionales con Arrays de NumPy\n",
    "Agregar Elementos a Arrays de NumPy\n"
   ]
  },
  {
   "cell_type": "code",
   "execution_count": null,
   "metadata": {
    "vscode": {
     "languageId": "plaintext"
    }
   },
   "outputs": [],
   "source": [
    "# Agregar un valor a un array unidimensional\n",
    "arr = np.array([1, 2, 3, 4, 5])\n",
    "new_arr = np.append(arr, 6)\n",
    "print(\"Array con nuevo elemento:\", new_arr)\n",
    "\n",
    "# Agregar elementos a un array bidimensional\n",
    "arr_2d = np.array([[1, 2, 3], [4, 5, 6]])\n",
    "new_row = np.array([[7, 8, 9]])\n",
    "new_arr_2d = np.append(arr_2d, new_row, axis=0)\n",
    "print(\"Array 2D con nueva fila:\")\n",
    "print(new_arr_2d)"
   ]
  },
  {
   "cell_type": "markdown",
   "metadata": {},
   "source": [
    "### Eliminar Elementos de Arrays de NumPy\n"
   ]
  },
  {
   "cell_type": "code",
   "execution_count": null,
   "metadata": {
    "vscode": {
     "languageId": "plaintext"
    }
   },
   "outputs": [],
   "source": [
    "# Eliminar un elemento de un array unidimensional\n",
    "arr = np.array([1, 2, 3, 4, 5])\n",
    "new_arr = np.delete(arr, 2)  # Elimina el elemento en el índice 2\n",
    "print(\"Array con elemento eliminado:\", new_arr)\n",
    "\n",
    "# Eliminar una fila de un array bidimensional\n",
    "arr_2d = np.array([[1, 2, 3], [4, 5, 6], [7, 8, 9]])\n",
    "new_arr_2d = np.delete(arr_2d, 1, axis=0)  # Elimina la segunda fila\n",
    "print(\"Array 2D con fila eliminada:\")\n",
    "print(new_arr_2d)"
   ]
  }
 ],
 "metadata": {
  "kernelspec": {
   "display_name": "myenv",
   "language": "python",
   "name": "python3"
  },
  "language_info": {
   "codemirror_mode": {
    "name": "ipython",
    "version": 3
   },
   "file_extension": ".py",
   "mimetype": "text/x-python",
   "name": "python",
   "nbconvert_exporter": "python",
   "pygments_lexer": "ipython3",
   "version": "3.11.4"
  }
 },
 "nbformat": 4,
 "nbformat_minor": 2
}
